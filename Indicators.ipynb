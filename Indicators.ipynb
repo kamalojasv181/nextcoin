{
 "cells": [
  {
   "cell_type": "code",
   "execution_count": 1,
   "metadata": {},
   "outputs": [],
   "source": [
    "# Importing Libraries\n",
    "import numpy as np\n",
    "import pandas as pd\n",
    "import matplotlib.pyplot as plt"
   ]
  },
  {
   "cell_type": "code",
   "execution_count": 2,
   "metadata": {},
   "outputs": [],
   "source": [
    "# Importing Dataset\n",
    "data = pd.read_csv('USDJPY-2019-01.csv', names=['pair', 'datetime', 'low', 'high'])"
   ]
  },
  {
   "cell_type": "code",
   "execution_count": 3,
   "metadata": {},
   "outputs": [
    {
     "data": {
      "text/html": [
       "<div>\n",
       "<style scoped>\n",
       "    .dataframe tbody tr th:only-of-type {\n",
       "        vertical-align: middle;\n",
       "    }\n",
       "\n",
       "    .dataframe tbody tr th {\n",
       "        vertical-align: top;\n",
       "    }\n",
       "\n",
       "    .dataframe thead th {\n",
       "        text-align: right;\n",
       "    }\n",
       "</style>\n",
       "<table border=\"1\" class=\"dataframe\">\n",
       "  <thead>\n",
       "    <tr style=\"text-align: right;\">\n",
       "      <th></th>\n",
       "      <th>pair</th>\n",
       "      <th>datetime</th>\n",
       "      <th>low</th>\n",
       "      <th>high</th>\n",
       "    </tr>\n",
       "  </thead>\n",
       "  <tbody>\n",
       "    <tr>\n",
       "      <th>0</th>\n",
       "      <td>USD/JPY</td>\n",
       "      <td>20190101 22:06:11.323</td>\n",
       "      <td>109.630</td>\n",
       "      <td>109.697</td>\n",
       "    </tr>\n",
       "    <tr>\n",
       "      <th>1</th>\n",
       "      <td>USD/JPY</td>\n",
       "      <td>20190101 22:06:11.567</td>\n",
       "      <td>109.625</td>\n",
       "      <td>109.697</td>\n",
       "    </tr>\n",
       "  </tbody>\n",
       "</table>\n",
       "</div>"
      ],
      "text/plain": [
       "      pair               datetime      low     high\n",
       "0  USD/JPY  20190101 22:06:11.323  109.630  109.697\n",
       "1  USD/JPY  20190101 22:06:11.567  109.625  109.697"
      ]
     },
     "execution_count": 3,
     "metadata": {},
     "output_type": "execute_result"
    }
   ],
   "source": [
    "data.head(2)"
   ]
  },
  {
   "cell_type": "code",
   "execution_count": 4,
   "metadata": {},
   "outputs": [],
   "source": [
    "def calcMACD(data):\n",
    "    data_26_days_ema = data.ewm(span=26).mean()\n",
    "    data_12_days_ema = data.ewm(span=12).mean()\n",
    "    \n",
    "    macd_low = data_12_days_ema.low - data_26_days_ema.low\n",
    "    macd_high = data_12_days_ema.high - data_26_days_ema.high\n",
    "    \n",
    "    return pd.DataFrame({'pair': data.pair, 'datetime': data.datetime, 'macd_low': macd_low, 'macd_high': macd_high})"
   ]
  },
  {
   "cell_type": "code",
   "execution_count": 5,
   "metadata": {},
   "outputs": [],
   "source": [
    "macd =calcMACD(data)"
   ]
  },
  {
   "cell_type": "code",
   "execution_count": 6,
   "metadata": {},
   "outputs": [
    {
     "data": {
      "text/plain": [
       "[<matplotlib.lines.Line2D at 0x231498b9278>]"
      ]
     },
     "execution_count": 6,
     "metadata": {},
     "output_type": "execute_result"
    },
    {
     "data": {
      "image/png": "[encoded data removed]",
      "text/plain": [
       "<Figure size 432x288 with 1 Axes>"
      ]
     },
     "metadata": {
      "needs_background": "light"
     },
     "output_type": "display_data"
    }
   ],
   "source": [
    "plt.plot(macd.macd_high[100000:101000], 'b')"
   ]
  },
  {
   "cell_type": "code",
   "execution_count": null,
   "metadata": {},
   "outputs": [],
   "source": []
  },
  {
   "cell_type": "code",
   "execution_count": 8,
   "metadata": {},
   "outputs": [],
   "source": [
    "def calcRSI(data):\n",
    "    high = data.high.diff()\n",
    "    low = data.low.diff()\n",
    "    \n",
    "    high_gain = high.copy()\n",
    "    high_gain[high_gain< 0] = 0\n",
    "\n",
    "    high_loss = high.copy()\n",
    "    high_loss[high_loss> 0] = 0\n",
    "\n",
    "    low_gain = low.copy()\n",
    "    low_gain[low_gain< 0] = 0\n",
    "\n",
    "    low_loss = low.copy()\n",
    "    low_loss[low_loss> 0] = 0\n",
    "    \n",
    "    gain_loss_ratio_high = high_gain.rolling(14).mean()/high_loss.rolling(14).mean()\n",
    "    gain_loss_ratio_low = low_gain.rolling(14).mean()/low_loss.rolling(14).mean()\n",
    "    \n",
    "    rsi_high = gain_loss_ratio_high.apply(lambda val: 100 - 100/(1+ np.abs(val)))\n",
    "    rsi_low = gain_loss_ratio_low.apply(lambda val: 100 - 100/(1+ np.abs(val)))\n",
    "    \n",
    "    return pd.DataFrame({'pair': data.pair, 'datetime': data.datetime, 'rsi_low': rsi_low, 'rsi_high': rsi_high})"
   ]
  },
  {
   "cell_type": "code",
   "execution_count": 9,
   "metadata": {},
   "outputs": [],
   "source": [
    "rsi = calcRSI(data)"
   ]
  },
  {
   "cell_type": "code",
   "execution_count": 11,
   "metadata": {},
   "outputs": [
    {
     "data": {
      "text/plain": [
       "[<matplotlib.lines.Line2D at 0x2314a639c50>]"
      ]
     },
     "execution_count": 11,
     "metadata": {},
     "output_type": "execute_result"
    },
    {
     "data": {
      "image/png": "[encoded data removed]",
      "text/plain": [
       "<Figure size 432x288 with 1 Axes>"
      ]
     },
     "metadata": {
      "needs_background": "light"
     },
     "output_type": "display_data"
    }
   ],
   "source": [
    "plt.plot(rsi.rsi_high[1000:2000])"
   ]
  },
  {
   "cell_type": "code",
   "execution_count": null,
   "metadata": {},
   "outputs": [],
   "source": []
  }
 ],
 "metadata": {
  "kernelspec": {
   "display_name": "Python 3",
   "language": "python",
   "name": "python3"
  },
  "language_info": {
   "codemirror_mode": {
    "name": "ipython",
    "version": 3
   },
   "file_extension": ".py",
   "mimetype": "text/x-python",
   "name": "python",
   "nbconvert_exporter": "python",
   "pygments_lexer": "ipython3",
   "version": "3.7.3"
  }
 },
 "nbformat": 4,
 "nbformat_minor": 2
}
